import os
import glob
import pandas as pd
extension = 'csv'

# combine all files in the political directory
os.chdir("political_tweets_files/")
political_all_filenames = [i for i in glob.glob('*.{}'.format(extension))]
political_combined_csv = pd.concat([pd.read_csv(f) for f in political_all_filenames ])
os.chdir("../")
political_combined_csv.to_csv( "political_combined.csv", index=False, encoding='utf-8-sig')

# combine all files in the sports directory
os.chdir("healthcare_tweet_files/")
healthcare_all_filenames = [i for i in glob.glob('*.{}'.format(extension))]
healthcare_combined_csv = pd.concat([pd.read_csv(f) for f in healthcare_all_filenames ])
os.chdir("../")
healthcare_combined_csv.to_csv( "healthcare_combined.csv", index=False, encoding='utf-8-sig')

# combine all files in the sports directory
os.chdir("sports_tweet_files/")
sports_all_filenames = [i for i in glob.glob('*.{}'.format(extension))]
sports_combined_csv = pd.concat([pd.read_csv(f) for f in sports_all_filenames ])
os.chdir("../")
sports_combined_csv.to_csv( "sports_combined.csv", index=False, encoding='utf-8-sig')

